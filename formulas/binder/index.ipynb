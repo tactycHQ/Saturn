{
 "cells": [
  {
   "cell_type": "markdown",
   "metadata": {},
   "source": [
    "# `formulas`: An Excel formulas interpreter in Python."
   ]
  },
  {
   "cell_type": "markdown",
   "metadata": {},
   "source": [
    "## Parsing formula\n",
    "An example how to parse and execute an Excel formula is the following:"
   ]
  },
  {
   "cell_type": "code",
   "execution_count": null,
   "metadata": {},
   "outputs": [],
   "source": [
    "import formulas\n",
    "func = formulas.Parser().ast('=(1 + 1) + B3 / A2')[1].compile()"
   ]
  },
  {
   "cell_type": "markdown",
   "metadata": {},
   "source": [
    "To visualize formula model and get the input order you can do the following:"
   ]
  },
  {
   "cell_type": "code",
   "execution_count": null,
   "metadata": {},
   "outputs": [],
   "source": [
    "list(func.inputs)"
   ]
  },
  {
   "cell_type": "code",
   "execution_count": null,
   "metadata": {},
   "outputs": [],
   "source": [
    "func.plot(view=False)"
   ]
  },
  {
   "cell_type": "markdown",
   "metadata": {},
   "source": [
    "Finally to execute the formula and plot the workflow:"
   ]
  },
  {
   "cell_type": "code",
   "execution_count": null,
   "metadata": {},
   "outputs": [],
   "source": [
    "func(1, 5)"
   ]
  },
  {
   "cell_type": "code",
   "execution_count": null,
   "metadata": {},
   "outputs": [],
   "source": [
    "func.plot(workflow=True, view=False)"
   ]
  },
  {
   "cell_type": "markdown",
   "metadata": {},
   "source": [
    "Excel workbook\n",
    "--------------\n",
    "An example how to load, calculate, and write an Excel workbook is the following:"
   ]
  },
  {
   "cell_type": "code",
   "execution_count": null,
   "metadata": {},
   "outputs": [],
   "source": [
    "xl_model = formulas.ExcelModel().loads(\"../test/test_files/excel.xlsx\").finish()\n",
    "xl_model.calculate()"
   ]
  },
  {
   "cell_type": "code",
   "execution_count": null,
   "metadata": {},
   "outputs": [],
   "source": [
    "xl_model.write()"
   ]
  },
  {
   "cell_type": "markdown",
   "metadata": {},
   "source": [
    "> If you have or could have **circular references**, add `circular=True`\n",
    "   to `finish` method.\n",
    "\n",
    "To plot the dependency graph that depict relationships between Excel cells:"
   ]
  },
  {
   "cell_type": "code",
   "execution_count": null,
   "metadata": {},
   "outputs": [],
   "source": [
    "dsp = xl_model.dsp\n",
    "dsp.plot(view=False)"
   ]
  },
  {
   "cell_type": "markdown",
   "metadata": {},
   "source": [
    "To overwrite the default inputs that are defined by the excel file or to impose\n",
    "some value to a specific cell:"
   ]
  },
  {
   "cell_type": "code",
   "execution_count": null,
   "metadata": {},
   "outputs": [],
   "source": [
    "xl_model.calculate(\n",
    "    inputs={\n",
    "        \"'[EXCEL.XLSX]DATA'!A2\": 3,  # To overwrite the default value.\n",
    "        \"'[EXCEL.XLSX]DATA'!B3\": 1  # To impose a value to B3 cell.\n",
    "    },\n",
    "    outputs=[\n",
    "       \"'[EXCEL.XLSX]DATA'!C2\", \"'[EXCEL.XLSX]DATA'!C4\"\n",
    "    ] # To define the outputs that you want to calculate.\n",
    ")"
   ]
  },
  {
   "cell_type": "markdown",
   "metadata": {},
   "source": [
    "To build a single function out of an excel model with fixed inputs and outputs,\n",
    "you can use the `compile` method of the `ExcelModel` that returns a\n",
    "[`DispatchPipe`](https://schedula.readthedocs.io/en/master/_build/schedula/utils/dsp/schedula.utils.dsp.DispatchPipe.html#schedula.utils.dsp.DispatchPipe). This is a function where the inputs and outputs are defined by\n",
    "the data node ids (i.e., cell references)."
   ]
  },
  {
   "cell_type": "code",
   "execution_count": null,
   "metadata": {},
   "outputs": [],
   "source": [
    "func = xl_model.compile(\n",
    "    inputs=[\n",
    "        \"'[EXCEL.XLSX]DATA'!A2\",  # First argument of the function.\n",
    "        \"'[EXCEL.XLSX]DATA'!B3\"   # Second argument of the function.\n",
    "    ], # To define function inputs.\n",
    "    outputs=[\n",
    "        \"'[EXCEL.XLSX]DATA'!C2\", \"'[EXCEL.XLSX]DATA'!C4\"\n",
    "    ] # To define function outputs.\n",
    ")\n",
    "func"
   ]
  },
  {
   "cell_type": "code",
   "execution_count": null,
   "metadata": {},
   "outputs": [],
   "source": [
    "[v.value[0, 0] for v in func(3, 1)]  # To retrieve the data."
   ]
  },
  {
   "cell_type": "code",
   "execution_count": null,
   "metadata": {},
   "outputs": [],
   "source": [
    "func.plot(view=False)  # Set view=True to plot in the default browser."
   ]
  },
  {
   "cell_type": "markdown",
   "metadata": {},
   "source": [
    "Custom functions\n",
    "----------------\n",
    "An example how to add a custom function to the formula parser is the following:"
   ]
  },
  {
   "cell_type": "code",
   "execution_count": null,
   "metadata": {},
   "outputs": [],
   "source": [
    "import formulas\n",
    "FUNCTIONS = formulas.get_functions()\n",
    "FUNCTIONS['MYFUNC'] = lambda x, y: 1 + y + x\n",
    "func = formulas.Parser().ast('=MYFUNC(1, 2)')[1].compile()\n",
    "func()"
   ]
  }
 ],
 "metadata": {
  "kernelspec": {
   "display_name": "Python 3",
   "language": "python",
   "name": "python3"
  },
  "language_info": {
   "codemirror_mode": {
    "name": "ipython",
    "version": 3
   },
   "file_extension": ".py",
   "mimetype": "text/x-python",
   "name": "python",
   "nbconvert_exporter": "python",
   "pygments_lexer": "ipython3",
   "version": "3.7.3"
  }
 },
 "nbformat": 4,
 "nbformat_minor": 2
}
